{
 "cells": [
  {
   "cell_type": "markdown",
   "id": "87bfc376-2734-4edb-b0b4-80afd7cadb3f",
   "metadata": {
    "tags": []
   },
   "source": [
    "### Theory Questions"
   ]
  },
  {
   "cell_type": "code",
   "execution_count": 2,
   "id": "e628e709-12bc-413a-a162-67787cf1e9d4",
   "metadata": {},
   "outputs": [
    {
     "name": "stdout",
     "output_type": "stream",
     "text": [
      "Hello and welcome to the office, Nancy!\n"
     ]
    }
   ],
   "source": [
    "#Q1. What is the difference between a function and a method in Python?\n",
    "#Ans: A function is a standalone block of code that performs a specific task.Whatever we saw print,len,type are inbuilt function.It is a user\n",
    "#defined function.Functions are neat , useable clean and organized.It saves your time.\n",
    "#syntax  def func()\n",
    "def greet(name):\n",
    "    return f\"Hello and welcome to the office, {name}!\"\n",
    "\n",
    "print(greet(\"Nancy\"))"
   ]
  },
  {
   "cell_type": "code",
   "execution_count": 9,
   "id": "7217d798-89e4-472f-8848-e5798d0abe5b",
   "metadata": {},
   "outputs": [
    {
     "name": "stdout",
     "output_type": "stream",
     "text": [
      "hello and welcome\n"
     ]
    }
   ],
   "source": [
    "#Mehod in python\n",
    "#A method is a special type of function tied to an object or a class.: Methods can access and modify the object’s state.\n",
    "print(\"hello and welcome\")"
   ]
  },
  {
   "cell_type": "code",
   "execution_count": 14,
   "id": "b92d773c-b68e-4e10-9b86-db8aedf65237",
   "metadata": {},
   "outputs": [],
   "source": [
    "#Q2. Explain the concept of function arguments and parameters in Python\n",
    "#Ans When you want to call the function you provide real values for the parameters, these values are the arguments and the chracter description\n",
    "# in the codes are called parameters.\n",
    "#for example\n",
    "def square_no(x): #here x is the argument\n",
    "    return x*x"
   ]
  },
  {
   "cell_type": "code",
   "execution_count": 15,
   "id": "207ab1f1-6a15-40c8-919f-c2b57eec595d",
   "metadata": {},
   "outputs": [
    {
     "data": {
      "text/plain": [
       "36"
      ]
     },
     "execution_count": 15,
     "metadata": {},
     "output_type": "execute_result"
    }
   ],
   "source": [
    "square_no(6)"
   ]
  },
  {
   "cell_type": "code",
   "execution_count": 18,
   "id": "1f4a59f0-9c76-42ee-8e77-49e60c705945",
   "metadata": {},
   "outputs": [],
   "source": [
    "#Positional Arguments >> In this type of argument the first argument corrospond to the first parameter and the second argument corrosponds \n",
    "#to the second argument.\n",
    "#For example\n",
    "def multiplication(a, b):\n",
    "    return a*b #a and b are positional arguments "
   ]
  },
  {
   "cell_type": "code",
   "execution_count": 17,
   "id": "47192a42-d22c-4a28-9d5b-f26e95257472",
   "metadata": {},
   "outputs": [
    {
     "data": {
      "text/plain": [
       "50"
      ]
     },
     "execution_count": 17,
     "metadata": {},
     "output_type": "execute_result"
    }
   ],
   "source": [
    "multiplication(10 ,5)"
   ]
  },
  {
   "cell_type": "code",
   "execution_count": 19,
   "id": "fc855972-7dda-46d9-82db-a0e26b4aa5f8",
   "metadata": {},
   "outputs": [
    {
     "data": {
      "text/plain": [
       "17"
      ]
     },
     "execution_count": 19,
     "metadata": {},
     "output_type": "execute_result"
    }
   ],
   "source": [
    "#default argument>>If there is no value provided then you can set a default value for the argument and default program is passed to the\n",
    "#function to the last.\n",
    "#for example\n",
    "def addition(b,c,a=9):\n",
    "    return(a+b+c)\n",
    "addition(b=5,c=3)"
   ]
  },
  {
   "cell_type": "code",
   "execution_count": 20,
   "id": "e652a57d-8a6a-4c8e-81d1-05b3425e50c0",
   "metadata": {},
   "outputs": [],
   "source": [
    "#User define arguments\n",
    "def multiply_no():\n",
    "    a = int(input(\"Enter your first number\"))\n",
    "    b = int(input(\"Enter your second number\"))\n",
    "    c = int(input(\"Enter your third number\"))\n",
    "    return a*b*c"
   ]
  },
  {
   "cell_type": "code",
   "execution_count": 21,
   "id": "f942ffa0-200d-493e-a27d-7b40c39f02b1",
   "metadata": {},
   "outputs": [
    {
     "name": "stdin",
     "output_type": "stream",
     "text": [
      "Enter your first number 67\n",
      "Enter your second number 87\n",
      "Enter your third number 94\n"
     ]
    },
    {
     "data": {
      "text/plain": [
       "547926"
      ]
     },
     "execution_count": 21,
     "metadata": {},
     "output_type": "execute_result"
    }
   ],
   "source": [
    "multiply_no()"
   ]
  },
  {
   "cell_type": "code",
   "execution_count": 42,
   "id": "507da464-ad4b-4eb4-9fd1-2844c0a8e855",
   "metadata": {},
   "outputs": [
    {
     "data": {
      "text/plain": [
       "(1, 2, 3)"
      ]
     },
     "execution_count": 42,
     "metadata": {},
     "output_type": "execute_result"
    }
   ],
   "source": [
    "#Variable Argument >> It takes any no of argument.\n",
    "#Variable Length Argument>> When you don't no the no of arguments then this is used.\n",
    "#For Example\n",
    "def sum1(*args):\n",
    "    return args\n",
    "sum1(1,2,3)"
   ]
  },
  {
   "cell_type": "code",
   "execution_count": 47,
   "id": "64dfc654-97e8-4682-885d-d7a7fb9d0beb",
   "metadata": {},
   "outputs": [],
   "source": [
    "#Global Variable We can create global variables Outside the function  anywhere or it can be accessd Outside the function as well.\n",
    "#For example\n",
    "subpart = \"to the course\"\n",
    "def greet ():\n",
    "    message = \"hello welcome\"+ subpart\n",
    "    print(message)"
   ]
  },
  {
   "cell_type": "code",
   "execution_count": 48,
   "id": "9db2e647-2f59-4f98-823e-8fd8615cd9b3",
   "metadata": {},
   "outputs": [
    {
     "name": "stdout",
     "output_type": "stream",
     "text": [
      "hello welcometo the course\n"
     ]
    }
   ],
   "source": [
    "greet()"
   ]
  },
  {
   "cell_type": "code",
   "execution_count": 49,
   "id": "c83c3218-df3b-480c-8402-f58af62300e5",
   "metadata": {},
   "outputs": [],
   "source": [
    "#Local Variable>> A function define inside a function Should be accessed in the function Only is called Local variable.\n"
   ]
  },
  {
   "cell_type": "code",
   "execution_count": 54,
   "id": "58ed7177-69df-4768-a87c-ec5a521f7470",
   "metadata": {},
   "outputs": [
    {
     "name": "stdout",
     "output_type": "stream",
     "text": [
      "Hello, world!\n",
      "8\n",
      "Hello, Aaryan!\n",
      "16\n"
     ]
    }
   ],
   "source": [
    "#Q3. What are the different ways to define and call a function in Python?\n",
    "#AnsWhen you create a function in Python, you’re essentially crafting a reusable block of code that performs a specific task. Functions make\n",
    "#your code modular, organized, and easier to maintain. \n",
    "#1 You define a function using the def keyword\n",
    "def greet():\n",
    "    print(\"Hello, world!\")\n",
    "greet()\n",
    "#2 You can pass arguments into a function by specifying them.Arguments allow your function to work with specific data.\n",
    "def add(a, b):\n",
    "    return a + b\n",
    "\n",
    "result = add(3, 5)\n",
    "print(result)\n",
    "#3 You can assign default values to function parameters\n",
    "def greet(name=\"Aaryan\"):\n",
    "    print(f\"Hello, {name}!\")\n",
    "greet() \n",
    "#4 Lambda functions are concise, one-liner functions.\n",
    "square = lambda x: x ** 2\n",
    "print(square(4))"
   ]
  },
  {
   "cell_type": "code",
   "execution_count": 55,
   "id": "466d171d-2084-4140-91ee-64f306317a91",
   "metadata": {},
   "outputs": [],
   "source": [
    "#Once you create a function you can call it by some ways which are\n",
    "# You can simply call the function name written inside the paranthesis.\n",
    "# You can pass the value into the functions when you are calling it.\n",
    "# Function can return the values using the keyword return.\n"
   ]
  },
  {
   "cell_type": "code",
   "execution_count": 57,
   "id": "53d7dc92-3707-4449-950d-d18fe4501ade",
   "metadata": {},
   "outputs": [
    {
     "data": {
      "text/plain": [
       "5.9"
      ]
     },
     "execution_count": 57,
     "metadata": {},
     "output_type": "execute_result"
    }
   ],
   "source": [
    "#Q4. What is the purpose of the `return` statement in a Python function?\n",
    "#Ans Return statement allows you to exit a function and send a result  back to the code that called the function. For Using the return \n",
    "# statement a keyword return is used in python.\n",
    "# for example\n",
    "def division_no(a, b):\n",
    "    return a/b\n",
    "\n",
    "division_no(59, 10)"
   ]
  },
  {
   "cell_type": "code",
   "execution_count": 58,
   "id": "51f51fd4-93d3-4649-bf8b-10aeaf383e4b",
   "metadata": {},
   "outputs": [
    {
     "name": "stdout",
     "output_type": "stream",
     "text": [
      "d\n",
      "a\n",
      "t\n",
      "a\n",
      "s\n",
      "c\n",
      "i\n",
      "e\n",
      "n\n",
      "c\n",
      "e\n"
     ]
    }
   ],
   "source": [
    "#Q5. What are iterators in Python and how do they differ from iterables?\n",
    "#Ans Iterators>> An iterator is an object representing a stream of data and the work of it is to return the data one by one.an iterator can \n",
    "#be created from an iterable using the iter() function.\n",
    "# Iterable >> An iterable is any python object or sequential structure that is capable of returning its memebers one at time.Examples of \n",
    "#iterables include lists, strings, dictionaries, sets, and more.\n",
    "# A Process of looping through the elements of iterable is called iteration.\n",
    "for i in \"datascience\":\n",
    "    print(i)"
   ]
  },
  {
   "cell_type": "code",
   "execution_count": 59,
   "id": "17b41573-c9f9-422b-a7d8-3fae4e632a85",
   "metadata": {},
   "outputs": [],
   "source": [
    "s = \"datascience\""
   ]
  },
  {
   "cell_type": "code",
   "execution_count": 60,
   "id": "394f7ecc-8e51-4df5-aa38-ee9f50e5c7de",
   "metadata": {},
   "outputs": [
    {
     "data": {
      "text/plain": [
       "<str_iterator at 0x749f30305c00>"
      ]
     },
     "execution_count": 60,
     "metadata": {},
     "output_type": "execute_result"
    }
   ],
   "source": [
    "iter(s)"
   ]
  },
  {
   "cell_type": "code",
   "execution_count": 61,
   "id": "4bf77061-f60d-4fb8-9e9e-c4236948bbed",
   "metadata": {},
   "outputs": [
    {
     "data": {
      "text/plain": [
       "<str_iterator at 0x749f31be9ff0>"
      ]
     },
     "execution_count": 61,
     "metadata": {},
     "output_type": "execute_result"
    }
   ],
   "source": [
    "x = iter(s)\n",
    "x"
   ]
  },
  {
   "cell_type": "code",
   "execution_count": 62,
   "id": "4b68900b-daef-4639-af34-0472908f7360",
   "metadata": {},
   "outputs": [
    {
     "data": {
      "text/plain": [
       "'d'"
      ]
     },
     "execution_count": 62,
     "metadata": {},
     "output_type": "execute_result"
    }
   ],
   "source": [
    "next(x)"
   ]
  },
  {
   "cell_type": "code",
   "execution_count": 63,
   "id": "a92b3762-0b7a-46e9-9d03-2c07e9b11291",
   "metadata": {},
   "outputs": [
    {
     "data": {
      "text/plain": [
       "'a'"
      ]
     },
     "execution_count": 63,
     "metadata": {},
     "output_type": "execute_result"
    }
   ],
   "source": [
    "next(x)"
   ]
  },
  {
   "cell_type": "code",
   "execution_count": 64,
   "id": "ee0cb071-6eb7-49be-88ae-cd9656e2b5d3",
   "metadata": {},
   "outputs": [
    {
     "data": {
      "text/plain": [
       "'t'"
      ]
     },
     "execution_count": 64,
     "metadata": {},
     "output_type": "execute_result"
    }
   ],
   "source": [
    "next(x)"
   ]
  },
  {
   "cell_type": "code",
   "execution_count": 2,
   "id": "a30236ee-ed1f-492b-88b2-327414391691",
   "metadata": {},
   "outputs": [
    {
     "name": "stdout",
     "output_type": "stream",
     "text": [
      "1\n",
      "2\n",
      "3\n",
      "4\n",
      "5\n"
     ]
    }
   ],
   "source": [
    "#Q6. Explain the concept of generators in Python and how they are defined.\n",
    "#Ans A generator is a special type of function that produces a sequence of values, one at a time when iterated over.\n",
    "#General function usually uses return statement but generators used yield as a statement\n",
    "def count_no(n):\n",
    "    i = 1\n",
    "    while i <= n:\n",
    "        yield i\n",
    "        i += 1\n",
    "for num in count_no(5):\n",
    "    print(num) "
   ]
  },
  {
   "cell_type": "code",
   "execution_count": 3,
   "id": "990364a3-2ca4-4905-81c7-c17c8a7c609b",
   "metadata": {},
   "outputs": [],
   "source": [
    "#Q7. What are the advantages of using generators over regular functions?\n",
    "#Ans Regular function creates the squares of the value and return in one go where as  A generator is a special type of function that\n",
    "#produces a sequence of values, one at a time.\n",
    "#Memory usage is more in regular functions as compare to generators because it returns in one go.\n",
    "#Generators simplify your code but in regular function there is more computation and calculations.\n",
    "# Generators can only be iterated once."
   ]
  },
  {
   "cell_type": "code",
   "execution_count": 4,
   "id": "7c21da92-a025-4f6d-9c1b-c8f2b76559a9",
   "metadata": {},
   "outputs": [
    {
     "name": "stdout",
     "output_type": "stream",
     "text": [
      "[2, 8, 4, 14, 10]\n"
     ]
    }
   ],
   "source": [
    "#Q8. What is a lambda function in Python and when is it typically used?\n",
    "#Ans Lambda fuction also known as anonymous function or shorthand function are samll and define using a keyword lambda.\n",
    "# syntax >> Lambda argument : expression\n",
    "#Lambdas function used as arguments in higher-order functions and when you  need a quick transformation or computation lambda are used.\n",
    "#it is used in short lived tasks\n",
    "numbers = [1, 4, 2, 7, 5]\n",
    "doubled = list(map(lambda x: x * 2, numbers))\n",
    "print(doubled)The filter() function filters elements from an iterable based on a given function (usually a condition)."
   ]
  },
  {
   "cell_type": "code",
   "execution_count": 5,
   "id": "307f94cb-eff3-483d-bb5b-ea0fea716383",
   "metadata": {},
   "outputs": [
    {
     "name": "stdout",
     "output_type": "stream",
     "text": [
      "[2, 4, 6, 8]\n"
     ]
    }
   ],
   "source": [
    "#Q9. Explain the purpose and usage of the `map()` function in Python.\n",
    "#AnsThe map() function is a built in Python function that transforms each item in an iterable using a specified function.It returns a map\n",
    "# object containing the transformed values.\n",
    "#syntax map(function, iterable)\n",
    "# we can use map() to apply a function to every element in a list, tuple, or other iterable.\n",
    "def double(x):\n",
    "    return x * 2\n",
    "\n",
    "numbers = [1, 2, 3, 4]\n",
    "doubled_numbers = list(map(double, numbers))\n",
    "print(doubled_numbers)"
   ]
  },
  {
   "cell_type": "code",
   "execution_count": 6,
   "id": "52058c40-d9c6-4866-a18a-276251090089",
   "metadata": {},
   "outputs": [],
   "source": [
    "#Q10. What is the difference between `map()`, `reduce()`, and `filter()` functions in Python?\n",
    "#AnsThe map function applies a given function to each item in an iterable (like a list) and returns an iterator with the transformed values.\n",
    "#syntax map(function, iterable)\n",
    "#The reduce() function (from the functools module) aggregates elements of an iterable using a specified function.\n",
    "#reduce(function, iterable)\n",
    "#The filter() function filters elements from an iterable based on a given function\n",
    "#filter(function, iterable)\n",
    "#map() transforms elements.\n",
    "#filter() selects elements.\n",
    "#reduce() aggregates elements"
   ]
  },
  {
   "cell_type": "markdown",
   "id": "7cbaa5f5-8c28-4619-b492-46b93a6b1984",
   "metadata": {},
   "source": [
    "### Practical Question"
   ]
  },
  {
   "cell_type": "code",
   "execution_count": 20,
   "id": "8e987a1f-9c13-4167-8935-06370c35261f",
   "metadata": {},
   "outputs": [],
   "source": [
    "#Q1. Write a Python function that takes a list of numbers as input and returns the sum of all even numbers in the list.\n",
    "def even_numbers(numbers):\n",
    "    even_sum = 0\n",
    "    for num in numbers:\n",
    "        if num % 2 == 0:\n",
    "            even_sum += num\n",
    "    return even_sum"
   ]
  },
  {
   "cell_type": "code",
   "execution_count": 21,
   "id": "1da2a63b-0b4f-4462-a23e-dab7beb5e658",
   "metadata": {},
   "outputs": [
    {
     "data": {
      "text/plain": [
       "20"
      ]
     },
     "execution_count": 21,
     "metadata": {},
     "output_type": "execute_result"
    }
   ],
   "source": [
    "even_numbers([1,2,3,4,5,6,7,8])"
   ]
  },
  {
   "cell_type": "code",
   "execution_count": 30,
   "id": "116267ca-1acb-4a6f-b4f2-93af3d2d0e64",
   "metadata": {},
   "outputs": [
    {
     "name": "stdout",
     "output_type": "stream",
     "text": [
      "eciffo eht ot emoclew dna olleH\n"
     ]
    }
   ],
   "source": [
    "#Q2. Create a Python function that accepts a string and returns the reverse of that string.\n",
    "def reverse_str(string):\n",
    "    return string[::-1]\n",
    "return_str= \"Hello and welcome to the office\"\n",
    "print(reverse_string(return_str)) "
   ]
  },
  {
   "cell_type": "code",
   "execution_count": 32,
   "id": "9cbd2310-cdc5-4bfd-a468-f7cf6b93ce8c",
   "metadata": {},
   "outputs": [
    {
     "name": "stdout",
     "output_type": "stream",
     "text": [
      "[1, 4, 9, 16, 25, 36]\n"
     ]
    }
   ],
   "source": [
    "#Q3. Implement a Python function that takes a list of integers and returns a new list containing the squares of each number.\n",
    "lst1 = [1,2,3,4,5,6]\n",
    "sq_list = list(map(lambda x: x**2, lst1))\n",
    "print( sq_list)"
   ]
  },
  {
   "cell_type": "code",
   "execution_count": 41,
   "id": "a414adf9-15c9-4306-ab15-0776fee10ee1",
   "metadata": {},
   "outputs": [
    {
     "name": "stdout",
     "output_type": "stream",
     "text": [
      "2\n",
      "3\n",
      "5\n",
      "7\n",
      "11\n",
      "13\n",
      "17\n",
      "19\n",
      "23\n",
      "29\n",
      "31\n",
      "37\n",
      "41\n",
      "43\n",
      "47\n",
      "53\n",
      "59\n",
      "61\n",
      "67\n",
      "71\n",
      "73\n",
      "79\n",
      "83\n",
      "89\n",
      "97\n",
      "101\n",
      "103\n",
      "107\n",
      "109\n",
      "113\n",
      "127\n",
      "131\n",
      "137\n",
      "139\n",
      "149\n",
      "151\n",
      "157\n",
      "163\n",
      "167\n",
      "173\n",
      "179\n",
      "181\n",
      "191\n",
      "193\n",
      "197\n",
      "199\n"
     ]
    }
   ],
   "source": [
    "#Q4. Write a Python function that checks if a given number is prime or not from 1 to 200.\n",
    "def prime_no(number):\n",
    "    \n",
    "    if number < 2:\n",
    "        return False  \n",
    "\n",
    "    for divisor in range(2, int(number**0.5) + 1):\n",
    "        if number % divisor == 0:\n",
    "            return False  \n",
    "    return True\n",
    "\n",
    "for num in range(1, 201):\n",
    "    if prime_no(num):\n",
    "        print(num)"
   ]
  },
  {
   "cell_type": "code",
   "execution_count": 42,
   "id": "e2907361-5692-4e6e-9ff9-c638713d624c",
   "metadata": {},
   "outputs": [
    {
     "name": "stdout",
     "output_type": "stream",
     "text": [
      "1 1 2 3 5 8 13 21 34 55 "
     ]
    }
   ],
   "source": [
    "#Q5. Create an iterator class in Python that generates the Fibonacci sequence up to a specified number of terms.\n",
    "\n",
    "class FibonacciIterator:\n",
    "    def __init__(self, max_terms):\n",
    "        self.max_terms = max_terms\n",
    "        self.count = 0\n",
    "        self.prev, self.curr = 0, 1\n",
    "\n",
    "    def __iter__(self):\n",
    "        return self\n",
    "\n",
    "    def __next__(self):\n",
    "        if self.count >= self.max_terms:\n",
    "            raise StopIteration\n",
    "\n",
    "        self.count += 1\n",
    "        self.prev, self.curr = self.curr, self.prev + self.curr\n",
    "        return self.prev\n",
    "for num in FibonacciIterator(10):\n",
    "    print(num, end=' ')"
   ]
  },
  {
   "cell_type": "code",
   "execution_count": 47,
   "id": "4a31f59c-23e6-41b6-8fe4-b17683b1791f",
   "metadata": {},
   "outputs": [
    {
     "name": "stdout",
     "output_type": "stream",
     "text": [
      "1\n",
      "2\n",
      "4\n",
      "8\n",
      "16\n",
      "32\n",
      "64\n",
      "128\n",
      "256\n",
      "512\n",
      "1024\n"
     ]
    }
   ],
   "source": [
    "#Q6. Write a generator function in Python that yields the powers of 2 up to a given exponent\n",
    "def generator_no(exponent):\n",
    "    for power in range(exponent + 1):\n",
    "        yield 2 ** power\n",
    "max_exponent = 10\n",
    "for sq_two in generator_no(max_exponent):\n",
    "    print(sq_two)"
   ]
  },
  {
   "cell_type": "code",
   "execution_count": 82,
   "id": "05104676-34d8-46c6-bf6a-d507bdf602cf",
   "metadata": {},
   "outputs": [],
   "source": [
    "#Q7. Implement a generator function that reads a file line by line and yields each line as a string.\n",
    "def read_file_lines(\"doc.assign.pdf\"):\n",
    "    with open(\"doc.assign.pdf\", 'r') as file:\n",
    "    for line in file:\n",
    "        yield line.rstrip('\\n')  \n",
    "for line in read_file_lines('my_file.txt'):\n",
    "    print(line)\n",
    "    "
   ]
  },
  {
   "cell_type": "code",
   "execution_count": 84,
   "id": "4e69d965-1a63-4191-ae8c-6d088b4b6d06",
   "metadata": {},
   "outputs": [
    {
     "name": "stdout",
     "output_type": "stream",
     "text": [
      "(1, 5)\n",
      "(2, 8)\n",
      "(3, 10)\n",
      "(4, 12)\n"
     ]
    }
   ],
   "source": [
    "#Q8. Use a lambda function in Python to sort a list of tuples based on the second element of each tuple.\n",
    "tuples_list = [(3, 10), (1, 5), (2, 8), (4, 12)]\n",
    "sorted_tuples = sorted(tuples_list, key=lambda x: x[1])\n",
    "for tup in sorted_tuples:\n",
    "    print(tup)"
   ]
  },
  {
   "cell_type": "code",
   "execution_count": 87,
   "id": "fa3e50cb-5857-4061-93c3-0333eb693a2a",
   "metadata": {},
   "outputs": [
    {
     "name": "stdout",
     "output_type": "stream",
     "text": [
      "[32.0, 50.0, 68.0, 86.0]\n"
     ]
    }
   ],
   "source": [
    "#Q9. Write a Python program that uses `map()` to convert a list of temperatures from Celsius to Fahrenheit.\n",
    "def cel_to_fah(celsius):\n",
    "\n",
    "    return (celsius * 9/5) + 32\n",
    "\n",
    "cel_temperatures = [0, 10, 20, 30]\n",
    "fahren_temperatures = list(map(cel_to_fah, cel_temperatures))\n",
    "\n",
    "print(fahren_temperatures)"
   ]
  },
  {
   "cell_type": "code",
   "execution_count": 89,
   "id": "3d8a8a49-2040-4e6f-bb57-3a05d65509b8",
   "metadata": {},
   "outputs": [
    {
     "name": "stdout",
     "output_type": "stream",
     "text": [
      "hll ryn ths sd\n"
     ]
    }
   ],
   "source": [
    "#Q10. Create a Python program that uses `filter()` to remove all the vowels from a given string.\n",
    "def rem_vo(char):\n",
    "    vowels = \"aeiou\"\n",
    "    return char not in vowels\n",
    "\n",
    "string = \"hello aaryan this side\"\n",
    "new_words = \"\".join(filter(rem_vo, string))\n",
    "\n",
    "print(new_words)"
   ]
  },
  {
   "cell_type": "code",
   "execution_count": 14,
   "id": "32857874-c0ef-4a21-9221-539b8f76c8c8",
   "metadata": {},
   "outputs": [
    {
     "name": "stdout",
     "output_type": "stream",
     "text": [
      "Order 34587: Total = 173.80 €\n",
      "Order 98762: Total = 294.00 €\n",
      "Order 77226: Total = 110.00 €\n",
      "Order 88112: Total = 110.00 €\n"
     ]
    }
   ],
   "source": [
    "orders = [\n",
    "    [34587, [\"learning python, mark lutz\", 4, 40.95]],\n",
    "    [98762, [\"Programming python, mark lutz\", 5, 56.80]],\n",
    "    [77226, [\"head first python, paul barry\", 3, 32.95]],\n",
    "    [88112, [\"einfuhrung in python3, bernd klien\", 3, 24.99]]\n",
    "]\n",
    "\n",
    "calculate_total = lambda order: (\n",
    "    order[0],  # Order number\n",
    "    max(order[1][1] * order[1][2], 100.0) + 10  \n",
    ")\n",
    "\n",
    "\n",
    "result = list(map(calculate_total, orders))\n",
    "\n",
    "\n",
    "for order_number, total in result:\n",
    "    print(f\"Order {order_number}: Total = {total:.2f} €\")"
   ]
  },
  {
   "cell_type": "code",
   "execution_count": null,
   "id": "06c997b2-deb9-4e9a-bc02-ecf7f58350fd",
   "metadata": {},
   "outputs": [],
   "source": []
  }
 ],
 "metadata": {
  "kernelspec": {
   "display_name": "Python 3 (ipykernel)",
   "language": "python",
   "name": "python3"
  },
  "language_info": {
   "codemirror_mode": {
    "name": "ipython",
    "version": 3
   },
   "file_extension": ".py",
   "mimetype": "text/x-python",
   "name": "python",
   "nbconvert_exporter": "python",
   "pygments_lexer": "ipython3",
   "version": "3.10.8"
  }
 },
 "nbformat": 4,
 "nbformat_minor": 5
}
